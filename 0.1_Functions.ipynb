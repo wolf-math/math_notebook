{
 "cells": [
  {
   "cell_type": "markdown",
   "metadata": {},
   "source": [
    "# Function Notation & Inverse Functions\n",
    "## Goals\n",
    "**SWBAT** use function notation to write functions\n",
    "**SWBAT** perform operations onm functions using function notation\n",
    "**SWBAT** compose functions into one another\n",
    "**SWBAT** identify inverse function by means of composition\n",
    "**SWBAT** create inverse functions\n",
    "## Standards \n",
    "**Interpreting Functions F-IF**\n",
    "1. Understand that a function from one set (called the domain) to\n",
    "another set (called the range) assigns to each element of the domain\n",
    "exactly one element of the range. If $f$ is a function and $x$ is an element\n",
    "of its domain, then $f(x)$ denotes the output of $f$ corresponding to the\n",
    "input $x$. The graph of $f$ is the graph of the equation $y = f(x)$.\n",
    "\n",
    "2. Use function notation, evaluate functions for inputs in their domains,\n",
    "and interpret statements that use function notation in terms of a\n",
    "context.\n",
    "\n",
    "**Building Functions F-BF**\n",
    "\n",
    "Build new functions from existing functions\n",
    "\n",
    "3. Identify the effect on the graph of replacing $f(x)$ by $f(x) + k$, $k f(x)$,\n",
    "$f(kx)$, and $f(x + k)$ for specific values of $k$ (both positive and negative);\n",
    "find the value of $k$ given the graphs. Experiment with cases and\n",
    "illustrate an explanation of the effects on the graph using technology.\n",
    "Include recognizing even and odd functions from their graphs and\n",
    "algebraic expressions for them.\n",
    "\n",
    "4. Find inverse functions.\n",
    "\n",
    "a. Solve an equation of the form $f(x) = c$ for a simple function $f$\n",
    "that has an inverse and write an expression for the inverse. For\n",
    "example, $f(x) =2 x^3$ for $x > 0$ or $f(x) = (x+1)/(x–1)$ for $x ≠ 1$.\n",
    "\n",
    "b. (+) Verify by composition that one function is the inverse of\n",
    "another.\n",
    "\n",
    "c. (+) Read values of an inverse function from a graph or a table,\n",
    "given that the function has an inverse.\n",
    "\n",
    "d. (+) Produce an invertible function from a non-invertible function\n",
    "by restricting the domain."
   ]
  },
  {
   "cell_type": "markdown",
   "metadata": {},
   "source": [
    "# What is a Function?\n",
    "\n",
    "A function is a math machine that turns one thing into another.\n",
    "\n",
    "A toaster is a \"function\" that turns bread into toast.\n",
    "\n",
    "A mathematical function is a rule that changes some number or expression into a different number or expression.\n",
    "\n",
    "The input of a function is called the **DOMAIN**, and the output is called the **RANGE**.\n",
    "\n",
    "Functions are written with ordered pairs. \n",
    "\n",
    "# Using Function Notation\n",
    "\n",
    "Another perk of using function notation is that you can plug things into the function really easily. If we want to find out when $x=3$ we will write $f(3)$\n",
    "\n",
    "$$\\mathbf{f(x)=3x-1}$$\n",
    "\n",
    "$f(1)=3(1)-1$\n",
    "\n",
    "$f(2)=3(2)-1$\n",
    "\n",
    "$f(3)=3(3)-1$\n",
    "\n",
    "**You can also plug in other variables. To plug these**\n",
    "\n",
    "1. Put a set of parenthesis wherever $x$ was.\n",
    "\n",
    "2. Then plug your variable/expression into the parenthesis\n",
    "\n",
    "3. Simplify"
   ]
  },
  {
   "cell_type": "markdown",
   "metadata": {},
   "source": [
    "# Watch a function work"
   ]
  },
  {
   "cell_type": "code",
   "execution_count": 15,
   "metadata": {},
   "outputs": [
    {
     "name": "stdout",
     "output_type": "stream",
     "text": [
      "Pick a number: 8\n",
      "Parenthesis around where the variable was: 3( )-1\n",
      "Plug in chosen number: 3(8)-1\n",
      "Simplify: 24-1\n",
      "answer: 23\n"
     ]
    }
   ],
   "source": [
    "x = int(input(\"Pick a number: \"))\n",
    "\n",
    "def f(x):\n",
    "    return 3*x - 1\n",
    "\n",
    "print(\"Parenthesis around where the variable was: 3( )-1\")\n",
    "print(f\"Plug in chosen number: 3({x})-1\")\n",
    "print(f\"Simplify: {3*x}-1\")\n",
    "print(f\"answer: {f(x)}\")"
   ]
  },
  {
   "cell_type": "markdown",
   "metadata": {},
   "source": []
  },
  {
   "cell_type": "markdown",
   "metadata": {},
   "source": [
    "<table width=\"100%\">\n",
    "    <tr>\n",
    "        <th>Operation</th> <th>Definition</th> <th>Example</th>\n",
    "    </tr>\n",
    "    <tr>\n",
    "        <td>Addition</td> <td>$[f+g](x) = f(x)+g(x)$</td> <td>$2x + (x+5)$</td>\n",
    "    </tr>\n",
    "    <tr>\n",
    "        <td>Subtraction</td> <td>$[f-g](x) = f(x)-g(x)$</td> <td>$2x - (x+5)$</td>\n",
    "    </tr>\n",
    "    <tr>\n",
    "        <td>Multiplication</td> <td>$[f \\cdot g](x) = f(x) \\cdot g(x)$</td> <td>$2x \\cdot (x+5)$</td>\n",
    "    </tr>\n",
    "    <tr>\n",
    "        <td>Division</td> <td>$[f \\div g](x) = \\frac{f(x)}{g(x)}$</td> <td>$\\frac{2x}{x+5}$</td>\n",
    "    </tr>\n",
    "</table>"
   ]
  },
  {
   "cell_type": "code",
   "execution_count": null,
   "metadata": {},
   "outputs": [],
   "source": []
  }
 ],
 "metadata": {
  "kernelspec": {
   "display_name": "Python 3",
   "language": "python",
   "name": "python3"
  },
  "language_info": {
   "codemirror_mode": {
    "name": "ipython",
    "version": 3
   },
   "file_extension": ".py",
   "mimetype": "text/x-python",
   "name": "python",
   "nbconvert_exporter": "python",
   "pygments_lexer": "ipython3",
   "version": "3.6.9"
  }
 },
 "nbformat": 4,
 "nbformat_minor": 2
}
